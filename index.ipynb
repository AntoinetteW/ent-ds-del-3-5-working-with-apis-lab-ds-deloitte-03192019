{
 "cells": [
  {
   "cell_type": "markdown",
   "metadata": {},
   "source": [
    "# Working with APIs - Lab\n",
    "\n",
    "\n",
    "## Introduction\n",
    "We are almost done! Now it's time to practice the hardest part of working with API's - exploring them to find interesting information and insights!\n",
    "\n",
    "## Objectives\n",
    "You will be able to:\n",
    "* Query information from the NY Times API, retrieve the results and transform a subset of the data into DataFrames"
   ]
  },
  {
   "cell_type": "markdown",
   "metadata": {},
   "source": [
    "## What do You Want to Find Out?!\n",
    "\n",
    "Go back to the [developer home page](https://developer.nytimes.com) at the New York Times. In the time remaining in class today:\n",
    "* Pick at least one new API\n",
    "* Create a new \"app\" with access to that API\n",
    "* Read the documentation for the API\n",
    "* Write a script to retrieve information from the API\n",
    "* Deserialize the resulting response using the appropriate Python library\n",
    "* Write some exploratory code to look at the data returned\n",
    "* Load an interesting subset of the data into a DataFrame\n",
    "\n",
    "For bonus points:\n",
    "* Change the data type of any numerical information into the appropriate type to get the mean of the values\n",
    "* Look at filtering based on any categorical variables to only save a subset of the data to your DataFrame\n",
    "\n",
    "**Really take the time to play and explore.**\n",
    "\n",
    "***A few final hints, before you go off on your own to explore:***\n",
    "* Don't be worried when you find bugs in your code. Bugs happen. The only difference is that over time, you get quicker at fixing them. The reason you get quicker at fixing them is because you get more practice. So more bugs == quicker improvement as a developer!\n",
    "* Take very small steps. Usually it's when you take bigger steps that you fall over you own feet\n",
    "* Feel free to look at previous labs for sample code. But if possible, instead of cutting and pasting, type it back in. It isn't much slower and it'll start to make you more comfortable with the code.\n",
    "* And finally, remember, there is an instructor in the room for a reason. If you're getting stuck, ask them for help!\n",
    "\n",
    "Good luck with your explorations!\n"
   ]
  },
  {
   "cell_type": "markdown",
   "metadata": {},
   "source": [
    "## Summary\n",
    "\n",
    "Now we have come a really long way since starting this course. You're writing scripts to access APIs, deserialize the data, transform interesting subsets of the data into DataFrames, and then clean up the data. Take a moment to reflect on just how much you've learned!\n",
    "\n",
    "Next up, we'll be looking at how you can use web scraping to access information that might not be available via an API.\n"
   ]
  }
 ],
 "metadata": {
  "kernelspec": {
   "display_name": "Python 3",
   "language": "python",
   "name": "python3"
  },
  "language_info": {
   "codemirror_mode": {
    "name": "ipython",
    "version": 3
   },
   "file_extension": ".py",
   "mimetype": "text/x-python",
   "name": "python",
   "nbconvert_exporter": "python",
   "pygments_lexer": "ipython3",
   "version": "3.6.5"
  }
 },
 "nbformat": 4,
 "nbformat_minor": 2
}
